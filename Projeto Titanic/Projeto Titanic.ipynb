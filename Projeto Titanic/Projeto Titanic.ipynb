{
 "cells": [
  {
   "cell_type": "markdown",
   "metadata": {},
   "source": [
    "### Udacity - Fundamentos de Data Science I\n",
    "### Projeto 2 - Investigando um conjunto de dados - Projeto Titanic"
   ]
  },
  {
   "cell_type": "markdown",
   "metadata": {},
   "source": [
    "###  Descrição\n",
    "\n",
    "O naufrágio do RMS Titanic é um dos mais conhecidos naufrágios da história. Em 15 de abril de 1912, durante sua viagem inaugural, o Titanic afundou após colidir com um iceberg, matando 1502 de 2224 passageiros e tripulantes.\n",
    "\n",
    "Para tentar responder algumas perguntas, nesta análise será usado um conjunto dados parcial, contendo dados demográficos e informações de 891 dos 2.224 passageiros e tripulantes a bordo do Titanic."
   ]
  },
  {
   "cell_type": "markdown",
   "metadata": {},
   "source": [
    "* Inicialmente é feita a importação de bibliotecas úteis e carga do conjunto de dados para um dataframe."
   ]
  },
  {
   "cell_type": "code",
   "execution_count": 34,
   "metadata": {
    "scrolled": true
   },
   "outputs": [
    {
     "data": {
      "text/html": [
       "<div>\n",
       "<style scoped>\n",
       "    .dataframe tbody tr th:only-of-type {\n",
       "        vertical-align: middle;\n",
       "    }\n",
       "\n",
       "    .dataframe tbody tr th {\n",
       "        vertical-align: top;\n",
       "    }\n",
       "\n",
       "    .dataframe thead th {\n",
       "        text-align: right;\n",
       "    }\n",
       "</style>\n",
       "<table border=\"1\" class=\"dataframe\">\n",
       "  <thead>\n",
       "    <tr style=\"text-align: right;\">\n",
       "      <th></th>\n",
       "      <th>PassengerId</th>\n",
       "      <th>Survived</th>\n",
       "      <th>Pclass</th>\n",
       "      <th>Name</th>\n",
       "      <th>Sex</th>\n",
       "      <th>Age</th>\n",
       "      <th>SibSp</th>\n",
       "      <th>Parch</th>\n",
       "      <th>Ticket</th>\n",
       "      <th>Fare</th>\n",
       "      <th>Cabin</th>\n",
       "      <th>Embarked</th>\n",
       "    </tr>\n",
       "  </thead>\n",
       "  <tbody>\n",
       "    <tr>\n",
       "      <th>0</th>\n",
       "      <td>1</td>\n",
       "      <td>0</td>\n",
       "      <td>3</td>\n",
       "      <td>Braund, Mr. Owen Harris</td>\n",
       "      <td>male</td>\n",
       "      <td>22.0</td>\n",
       "      <td>1</td>\n",
       "      <td>0</td>\n",
       "      <td>A/5 21171</td>\n",
       "      <td>7.2500</td>\n",
       "      <td>NaN</td>\n",
       "      <td>S</td>\n",
       "    </tr>\n",
       "    <tr>\n",
       "      <th>1</th>\n",
       "      <td>2</td>\n",
       "      <td>1</td>\n",
       "      <td>1</td>\n",
       "      <td>Cumings, Mrs. John Bradley (Florence Briggs Th...</td>\n",
       "      <td>female</td>\n",
       "      <td>38.0</td>\n",
       "      <td>1</td>\n",
       "      <td>0</td>\n",
       "      <td>PC 17599</td>\n",
       "      <td>71.2833</td>\n",
       "      <td>C85</td>\n",
       "      <td>C</td>\n",
       "    </tr>\n",
       "    <tr>\n",
       "      <th>2</th>\n",
       "      <td>3</td>\n",
       "      <td>1</td>\n",
       "      <td>3</td>\n",
       "      <td>Heikkinen, Miss. Laina</td>\n",
       "      <td>female</td>\n",
       "      <td>26.0</td>\n",
       "      <td>0</td>\n",
       "      <td>0</td>\n",
       "      <td>STON/O2. 3101282</td>\n",
       "      <td>7.9250</td>\n",
       "      <td>NaN</td>\n",
       "      <td>S</td>\n",
       "    </tr>\n",
       "    <tr>\n",
       "      <th>3</th>\n",
       "      <td>4</td>\n",
       "      <td>1</td>\n",
       "      <td>1</td>\n",
       "      <td>Futrelle, Mrs. Jacques Heath (Lily May Peel)</td>\n",
       "      <td>female</td>\n",
       "      <td>35.0</td>\n",
       "      <td>1</td>\n",
       "      <td>0</td>\n",
       "      <td>113803</td>\n",
       "      <td>53.1000</td>\n",
       "      <td>C123</td>\n",
       "      <td>S</td>\n",
       "    </tr>\n",
       "    <tr>\n",
       "      <th>4</th>\n",
       "      <td>5</td>\n",
       "      <td>0</td>\n",
       "      <td>3</td>\n",
       "      <td>Allen, Mr. William Henry</td>\n",
       "      <td>male</td>\n",
       "      <td>35.0</td>\n",
       "      <td>0</td>\n",
       "      <td>0</td>\n",
       "      <td>373450</td>\n",
       "      <td>8.0500</td>\n",
       "      <td>NaN</td>\n",
       "      <td>S</td>\n",
       "    </tr>\n",
       "    <tr>\n",
       "      <th>5</th>\n",
       "      <td>6</td>\n",
       "      <td>0</td>\n",
       "      <td>3</td>\n",
       "      <td>Moran, Mr. James</td>\n",
       "      <td>male</td>\n",
       "      <td>NaN</td>\n",
       "      <td>0</td>\n",
       "      <td>0</td>\n",
       "      <td>330877</td>\n",
       "      <td>8.4583</td>\n",
       "      <td>NaN</td>\n",
       "      <td>Q</td>\n",
       "    </tr>\n",
       "    <tr>\n",
       "      <th>6</th>\n",
       "      <td>7</td>\n",
       "      <td>0</td>\n",
       "      <td>1</td>\n",
       "      <td>McCarthy, Mr. Timothy J</td>\n",
       "      <td>male</td>\n",
       "      <td>54.0</td>\n",
       "      <td>0</td>\n",
       "      <td>0</td>\n",
       "      <td>17463</td>\n",
       "      <td>51.8625</td>\n",
       "      <td>E46</td>\n",
       "      <td>S</td>\n",
       "    </tr>\n",
       "    <tr>\n",
       "      <th>7</th>\n",
       "      <td>8</td>\n",
       "      <td>0</td>\n",
       "      <td>3</td>\n",
       "      <td>Palsson, Master. Gosta Leonard</td>\n",
       "      <td>male</td>\n",
       "      <td>2.0</td>\n",
       "      <td>3</td>\n",
       "      <td>1</td>\n",
       "      <td>349909</td>\n",
       "      <td>21.0750</td>\n",
       "      <td>NaN</td>\n",
       "      <td>S</td>\n",
       "    </tr>\n",
       "    <tr>\n",
       "      <th>8</th>\n",
       "      <td>9</td>\n",
       "      <td>1</td>\n",
       "      <td>3</td>\n",
       "      <td>Johnson, Mrs. Oscar W (Elisabeth Vilhelmina Berg)</td>\n",
       "      <td>female</td>\n",
       "      <td>27.0</td>\n",
       "      <td>0</td>\n",
       "      <td>2</td>\n",
       "      <td>347742</td>\n",
       "      <td>11.1333</td>\n",
       "      <td>NaN</td>\n",
       "      <td>S</td>\n",
       "    </tr>\n",
       "    <tr>\n",
       "      <th>9</th>\n",
       "      <td>10</td>\n",
       "      <td>1</td>\n",
       "      <td>2</td>\n",
       "      <td>Nasser, Mrs. Nicholas (Adele Achem)</td>\n",
       "      <td>female</td>\n",
       "      <td>14.0</td>\n",
       "      <td>1</td>\n",
       "      <td>0</td>\n",
       "      <td>237736</td>\n",
       "      <td>30.0708</td>\n",
       "      <td>NaN</td>\n",
       "      <td>C</td>\n",
       "    </tr>\n",
       "  </tbody>\n",
       "</table>\n",
       "</div>"
      ],
      "text/plain": [
       "   PassengerId  Survived  Pclass  \\\n",
       "0            1         0       3   \n",
       "1            2         1       1   \n",
       "2            3         1       3   \n",
       "3            4         1       1   \n",
       "4            5         0       3   \n",
       "5            6         0       3   \n",
       "6            7         0       1   \n",
       "7            8         0       3   \n",
       "8            9         1       3   \n",
       "9           10         1       2   \n",
       "\n",
       "                                                Name     Sex   Age  SibSp  \\\n",
       "0                            Braund, Mr. Owen Harris    male  22.0      1   \n",
       "1  Cumings, Mrs. John Bradley (Florence Briggs Th...  female  38.0      1   \n",
       "2                             Heikkinen, Miss. Laina  female  26.0      0   \n",
       "3       Futrelle, Mrs. Jacques Heath (Lily May Peel)  female  35.0      1   \n",
       "4                           Allen, Mr. William Henry    male  35.0      0   \n",
       "5                                   Moran, Mr. James    male   NaN      0   \n",
       "6                            McCarthy, Mr. Timothy J    male  54.0      0   \n",
       "7                     Palsson, Master. Gosta Leonard    male   2.0      3   \n",
       "8  Johnson, Mrs. Oscar W (Elisabeth Vilhelmina Berg)  female  27.0      0   \n",
       "9                Nasser, Mrs. Nicholas (Adele Achem)  female  14.0      1   \n",
       "\n",
       "   Parch            Ticket     Fare Cabin Embarked  \n",
       "0      0         A/5 21171   7.2500   NaN        S  \n",
       "1      0          PC 17599  71.2833   C85        C  \n",
       "2      0  STON/O2. 3101282   7.9250   NaN        S  \n",
       "3      0            113803  53.1000  C123        S  \n",
       "4      0            373450   8.0500   NaN        S  \n",
       "5      0            330877   8.4583   NaN        Q  \n",
       "6      0             17463  51.8625   E46        S  \n",
       "7      1            349909  21.0750   NaN        S  \n",
       "8      2            347742  11.1333   NaN        S  \n",
       "9      0            237736  30.0708   NaN        C  "
      ]
     },
     "execution_count": 34,
     "metadata": {},
     "output_type": "execute_result"
    }
   ],
   "source": [
    "# Importa bibliotecas uteis.\n",
    "import pandas as pd\n",
    "import numpy as np\n",
    "import matplotlib.patches as mpatches\n",
    "import matplotlib.pyplot as plt\n",
    "% matplotlib inline\n",
    "\n",
    "# Carrega o arquivo do conjunto de dados para um dataframe.\n",
    "df = pd.read_csv('titanic-data-6.csv')\n",
    "\n",
    "# Verifica a importação dos dados.\n",
    "df.head(10)"
   ]
  },
  {
   "cell_type": "code",
   "execution_count": 35,
   "metadata": {},
   "outputs": [
    {
     "name": "stdout",
     "output_type": "stream",
     "text": [
      "(891, 12)\n"
     ]
    }
   ],
   "source": [
    "# Verifica o total de linhas e colunas do dataframe.\n",
    "print(df.shape)"
   ]
  },
  {
   "cell_type": "markdown",
   "metadata": {},
   "source": [
    "* A quatidade de linhas confere com a quantidade de registros esperada no conjunto de dados."
   ]
  },
  {
   "cell_type": "markdown",
   "metadata": {},
   "source": [
    "#### Dicionário de dados\n",
    "\n",
    "Variável | Definição | Chave\n",
    "-------- | --------- | -----\n",
    "survival | Sobrevivência | 0 = Não, 1 = Sim\n",
    "pclass\t| Class da passagem | 1 = 1ª Classe, 2 = 2ª Classe, 3 = 3ª Classe\n",
    "sex\t| Sexo |\n",
    "Age\t| Idade em anos |\n",
    "sibsp | Número de irmãos / cônjuges a bordo do Titanic |\n",
    "parch | Número de pais / filhos a bordo do Titanic |\n",
    "ticket | Número da passagem |\n",
    "fare | Tarifa de embarque |\n",
    "cabin | Número da cabine |\n",
    "embarked | Porto de embarque | C = Cherbourg, Q = Queenstown, S = Southampton"
   ]
  },
  {
   "cell_type": "markdown",
   "metadata": {},
   "source": [
    "### Questionamentos\n",
    "\n",
    "1. Há algo que sugira que a classe social possa ter realação com a sobrevivência dos passageiros?\n",
    "2. O local de embarque denota uma possível relação com a classe social dos passageiros?\n",
    "3. Há alguma indicação de que o desembarque de mulheres e crianças tenha sido prioridade?\n",
    "4. Qual a média de idade dos sobreviventes das 3 classes sociais indicadas nos dados?\n",
    "5. Qual o sobrevivente mais idoso?"
   ]
  },
  {
   "cell_type": "markdown",
   "metadata": {},
   "source": [
    "### Preparação dos dados"
   ]
  },
  {
   "cell_type": "markdown",
   "metadata": {},
   "source": [
    "* Foi criada uma função auxiliar que será usada algumas vezes ao longo do processo."
   ]
  },
  {
   "cell_type": "code",
   "execution_count": 36,
   "metadata": {},
   "outputs": [],
   "source": [
    "# Função que calcula proporção entre dois valores (diferença percentual entre val_1 e val_2).\n",
    "def proportion(val_1, val_2):\n",
    "    # Retorna um valor correpondente a diferença percentual entre os valores de entrada.\n",
    "    return (int(((val_2 / val_1) - 1) * 100))"
   ]
  },
  {
   "cell_type": "markdown",
   "metadata": {},
   "source": [
    "* Verificou-se uma diferença na quantidade de valores nas colunas Age, Cabin e Embarked."
   ]
  },
  {
   "cell_type": "code",
   "execution_count": 37,
   "metadata": {
    "scrolled": true
   },
   "outputs": [
    {
     "name": "stdout",
     "output_type": "stream",
     "text": [
      "<class 'pandas.core.frame.DataFrame'>\n",
      "RangeIndex: 891 entries, 0 to 890\n",
      "Data columns (total 12 columns):\n",
      "PassengerId    891 non-null int64\n",
      "Survived       891 non-null int64\n",
      "Pclass         891 non-null int64\n",
      "Name           891 non-null object\n",
      "Sex            891 non-null object\n",
      "Age            714 non-null float64\n",
      "SibSp          891 non-null int64\n",
      "Parch          891 non-null int64\n",
      "Ticket         891 non-null object\n",
      "Fare           891 non-null float64\n",
      "Cabin          204 non-null object\n",
      "Embarked       889 non-null object\n",
      "dtypes: float64(2), int64(5), object(5)\n",
      "memory usage: 83.6+ KB\n"
     ]
    }
   ],
   "source": [
    "# Verifica se há valores ausentes.\n",
    "df.info()"
   ]
  },
  {
   "cell_type": "markdown",
   "metadata": {},
   "source": [
    "* Os dados ausentes na coluna Age foram preenchido com a média da idade dos demais pessageiros."
   ]
  },
  {
   "cell_type": "code",
   "execution_count": 38,
   "metadata": {},
   "outputs": [
    {
     "data": {
      "text/plain": [
       "30"
      ]
     },
     "execution_count": 38,
     "metadata": {},
     "output_type": "execute_result"
    }
   ],
   "source": [
    "# Verifica a idade média do passageiros\n",
    "age_mean = round(df.query('Age.notnull()', engine='python')['Age'].mean())\n",
    "age_mean"
   ]
  },
  {
   "cell_type": "code",
   "execution_count": 39,
   "metadata": {},
   "outputs": [
    {
     "data": {
      "text/plain": [
       "False"
      ]
     },
     "execution_count": 39,
     "metadata": {},
     "output_type": "execute_result"
    }
   ],
   "source": [
    "# Substitui os dados de idades ausentes pela média de idade\n",
    "df['Age'].fillna(age_mean, inplace=True)\n",
    "\n",
    "# Confere se a alteração foi feita com sucesso. Retorna 'False' se bem sucedida.\n",
    "df['Age'].isnull().values.any()"
   ]
  },
  {
   "cell_type": "markdown",
   "metadata": {},
   "source": [
    "* Os dados ausentes na coluna Cabin foram preenchidos com 'unknown'."
   ]
  },
  {
   "cell_type": "code",
   "execution_count": 40,
   "metadata": {},
   "outputs": [
    {
     "data": {
      "text/plain": [
       "687"
      ]
     },
     "execution_count": 40,
     "metadata": {},
     "output_type": "execute_result"
    }
   ],
   "source": [
    "# Verifica a quantidade dados de cabines ausentes.\n",
    "df['Cabin'].isnull().sum()"
   ]
  },
  {
   "cell_type": "code",
   "execution_count": 41,
   "metadata": {},
   "outputs": [
    {
     "data": {
      "text/plain": [
       "False"
      ]
     },
     "execution_count": 41,
     "metadata": {},
     "output_type": "execute_result"
    }
   ],
   "source": [
    "# Substitui os dados de cabine ausentes pela string ´unknown´.\n",
    "df['Cabin'].fillna('unknown', inplace=True)\n",
    "\n",
    "# Confere se a alteração foi feita com sucesso. Retorna 'False' se bem sucedida.\n",
    "df['Cabin'].isnull().values.any()"
   ]
  },
  {
   "cell_type": "code",
   "execution_count": 42,
   "metadata": {},
   "outputs": [
    {
     "data": {
      "text/plain": [
       "2"
      ]
     },
     "execution_count": 42,
     "metadata": {},
     "output_type": "execute_result"
    }
   ],
   "source": [
    "# Verifica a quantidade dados de embarque ausentes.\n",
    "df['Embarked'].isnull().sum()"
   ]
  },
  {
   "cell_type": "code",
   "execution_count": 43,
   "metadata": {},
   "outputs": [
    {
     "data": {
      "text/plain": [
       "False"
      ]
     },
     "execution_count": 43,
     "metadata": {},
     "output_type": "execute_result"
    }
   ],
   "source": [
    "# Substitui os dados de embarque pela string ´unknown´.\n",
    "df['Embarked'].fillna('unknown', inplace=True)\n",
    "\n",
    "# Confere se a alteração foi feita com sucesso. Retorna 'False' se bem sucedida.\n",
    "df['Embarked'].isnull().values.any()"
   ]
  },
  {
   "cell_type": "markdown",
   "metadata": {},
   "source": [
    "* O tipo de dado da coluna Age é 'float64' devido a forma como representaram idades fracionárias."
   ]
  },
  {
   "cell_type": "code",
   "execution_count": 44,
   "metadata": {
    "scrolled": true
   },
   "outputs": [
    {
     "name": "stdout",
     "output_type": "stream",
     "text": [
      "<class 'pandas.core.frame.DataFrame'>\n",
      "RangeIndex: 891 entries, 0 to 890\n",
      "Data columns (total 12 columns):\n",
      "PassengerId    891 non-null int64\n",
      "Survived       891 non-null int64\n",
      "Pclass         891 non-null int64\n",
      "Name           891 non-null object\n",
      "Sex            891 non-null object\n",
      "Age            891 non-null float64\n",
      "SibSp          891 non-null int64\n",
      "Parch          891 non-null int64\n",
      "Ticket         891 non-null object\n",
      "Fare           891 non-null float64\n",
      "Cabin          891 non-null object\n",
      "Embarked       891 non-null object\n",
      "dtypes: float64(2), int64(5), object(5)\n",
      "memory usage: 83.6+ KB\n"
     ]
    }
   ],
   "source": [
    "# Verifica se ainda há valores ausentes.\n",
    "df.info()"
   ]
  },
  {
   "cell_type": "markdown",
   "metadata": {},
   "source": [
    "* Foi efetuada a mudança do tipo para 'int64' para adequar aos propósitos dessa análise."
   ]
  },
  {
   "cell_type": "code",
   "execution_count": 45,
   "metadata": {},
   "outputs": [],
   "source": [
    "# Muda o tipo de dado da coluna idade para inteiro.\n",
    "df.Age = df.Age.astype(np.int64)"
   ]
  },
  {
   "cell_type": "code",
   "execution_count": 46,
   "metadata": {
    "scrolled": true
   },
   "outputs": [
    {
     "name": "stdout",
     "output_type": "stream",
     "text": [
      "<class 'pandas.core.frame.DataFrame'>\n",
      "RangeIndex: 891 entries, 0 to 890\n",
      "Data columns (total 12 columns):\n",
      "PassengerId    891 non-null int64\n",
      "Survived       891 non-null int64\n",
      "Pclass         891 non-null int64\n",
      "Name           891 non-null object\n",
      "Sex            891 non-null object\n",
      "Age            891 non-null int64\n",
      "SibSp          891 non-null int64\n",
      "Parch          891 non-null int64\n",
      "Ticket         891 non-null object\n",
      "Fare           891 non-null float64\n",
      "Cabin          891 non-null object\n",
      "Embarked       891 non-null object\n",
      "dtypes: float64(1), int64(6), object(5)\n",
      "memory usage: 83.6+ KB\n"
     ]
    }
   ],
   "source": [
    "# Verifica a mudança.\n",
    "df.info()"
   ]
  },
  {
   "cell_type": "markdown",
   "metadata": {},
   "source": [
    "* O dataframe agora tem a mesma quantidade linhas e valores para todas as variáveis."
   ]
  },
  {
   "cell_type": "markdown",
   "metadata": {},
   "source": [
    "### Exploração dos dados"
   ]
  },
  {
   "cell_type": "markdown",
   "metadata": {},
   "source": [
    "* Após uma observação inicial do dataframe iniciou-se a busca pelas respostas para as questões apresentadas."
   ]
  },
  {
   "cell_type": "code",
   "execution_count": 47,
   "metadata": {},
   "outputs": [
    {
     "data": {
      "text/html": [
       "<div>\n",
       "<style scoped>\n",
       "    .dataframe tbody tr th:only-of-type {\n",
       "        vertical-align: middle;\n",
       "    }\n",
       "\n",
       "    .dataframe tbody tr th {\n",
       "        vertical-align: top;\n",
       "    }\n",
       "\n",
       "    .dataframe thead th {\n",
       "        text-align: right;\n",
       "    }\n",
       "</style>\n",
       "<table border=\"1\" class=\"dataframe\">\n",
       "  <thead>\n",
       "    <tr style=\"text-align: right;\">\n",
       "      <th></th>\n",
       "      <th>PassengerId</th>\n",
       "      <th>Survived</th>\n",
       "      <th>Pclass</th>\n",
       "      <th>Name</th>\n",
       "      <th>Sex</th>\n",
       "      <th>Age</th>\n",
       "      <th>SibSp</th>\n",
       "      <th>Parch</th>\n",
       "      <th>Ticket</th>\n",
       "      <th>Fare</th>\n",
       "      <th>Cabin</th>\n",
       "      <th>Embarked</th>\n",
       "    </tr>\n",
       "  </thead>\n",
       "  <tbody>\n",
       "    <tr>\n",
       "      <th>0</th>\n",
       "      <td>1</td>\n",
       "      <td>0</td>\n",
       "      <td>3</td>\n",
       "      <td>Braund, Mr. Owen Harris</td>\n",
       "      <td>male</td>\n",
       "      <td>22</td>\n",
       "      <td>1</td>\n",
       "      <td>0</td>\n",
       "      <td>A/5 21171</td>\n",
       "      <td>7.2500</td>\n",
       "      <td>unknown</td>\n",
       "      <td>S</td>\n",
       "    </tr>\n",
       "    <tr>\n",
       "      <th>1</th>\n",
       "      <td>2</td>\n",
       "      <td>1</td>\n",
       "      <td>1</td>\n",
       "      <td>Cumings, Mrs. John Bradley (Florence Briggs Th...</td>\n",
       "      <td>female</td>\n",
       "      <td>38</td>\n",
       "      <td>1</td>\n",
       "      <td>0</td>\n",
       "      <td>PC 17599</td>\n",
       "      <td>71.2833</td>\n",
       "      <td>C85</td>\n",
       "      <td>C</td>\n",
       "    </tr>\n",
       "    <tr>\n",
       "      <th>2</th>\n",
       "      <td>3</td>\n",
       "      <td>1</td>\n",
       "      <td>3</td>\n",
       "      <td>Heikkinen, Miss. Laina</td>\n",
       "      <td>female</td>\n",
       "      <td>26</td>\n",
       "      <td>0</td>\n",
       "      <td>0</td>\n",
       "      <td>STON/O2. 3101282</td>\n",
       "      <td>7.9250</td>\n",
       "      <td>unknown</td>\n",
       "      <td>S</td>\n",
       "    </tr>\n",
       "    <tr>\n",
       "      <th>3</th>\n",
       "      <td>4</td>\n",
       "      <td>1</td>\n",
       "      <td>1</td>\n",
       "      <td>Futrelle, Mrs. Jacques Heath (Lily May Peel)</td>\n",
       "      <td>female</td>\n",
       "      <td>35</td>\n",
       "      <td>1</td>\n",
       "      <td>0</td>\n",
       "      <td>113803</td>\n",
       "      <td>53.1000</td>\n",
       "      <td>C123</td>\n",
       "      <td>S</td>\n",
       "    </tr>\n",
       "    <tr>\n",
       "      <th>4</th>\n",
       "      <td>5</td>\n",
       "      <td>0</td>\n",
       "      <td>3</td>\n",
       "      <td>Allen, Mr. William Henry</td>\n",
       "      <td>male</td>\n",
       "      <td>35</td>\n",
       "      <td>0</td>\n",
       "      <td>0</td>\n",
       "      <td>373450</td>\n",
       "      <td>8.0500</td>\n",
       "      <td>unknown</td>\n",
       "      <td>S</td>\n",
       "    </tr>\n",
       "  </tbody>\n",
       "</table>\n",
       "</div>"
      ],
      "text/plain": [
       "   PassengerId  Survived  Pclass  \\\n",
       "0            1         0       3   \n",
       "1            2         1       1   \n",
       "2            3         1       3   \n",
       "3            4         1       1   \n",
       "4            5         0       3   \n",
       "\n",
       "                                                Name     Sex  Age  SibSp  \\\n",
       "0                            Braund, Mr. Owen Harris    male   22      1   \n",
       "1  Cumings, Mrs. John Bradley (Florence Briggs Th...  female   38      1   \n",
       "2                             Heikkinen, Miss. Laina  female   26      0   \n",
       "3       Futrelle, Mrs. Jacques Heath (Lily May Peel)  female   35      1   \n",
       "4                           Allen, Mr. William Henry    male   35      0   \n",
       "\n",
       "   Parch            Ticket     Fare    Cabin Embarked  \n",
       "0      0         A/5 21171   7.2500  unknown        S  \n",
       "1      0          PC 17599  71.2833      C85        C  \n",
       "2      0  STON/O2. 3101282   7.9250  unknown        S  \n",
       "3      0            113803  53.1000     C123        S  \n",
       "4      0            373450   8.0500  unknown        S  "
      ]
     },
     "execution_count": 47,
     "metadata": {},
     "output_type": "execute_result"
    }
   ],
   "source": [
    "# Quantidade de linhas a exibir\n",
    "qty_lin = 5\n",
    "\n",
    "# Lista dataframe para observação.\n",
    "df.head(qty_lin)"
   ]
  },
  {
   "cell_type": "code",
   "execution_count": 48,
   "metadata": {},
   "outputs": [
    {
     "data": {
      "text/html": [
       "<div>\n",
       "<style scoped>\n",
       "    .dataframe tbody tr th:only-of-type {\n",
       "        vertical-align: middle;\n",
       "    }\n",
       "\n",
       "    .dataframe tbody tr th {\n",
       "        vertical-align: top;\n",
       "    }\n",
       "\n",
       "    .dataframe thead th {\n",
       "        text-align: right;\n",
       "    }\n",
       "</style>\n",
       "<table border=\"1\" class=\"dataframe\">\n",
       "  <thead>\n",
       "    <tr style=\"text-align: right;\">\n",
       "      <th></th>\n",
       "      <th>PassengerId</th>\n",
       "      <th>Survived</th>\n",
       "      <th>Pclass</th>\n",
       "      <th>Name</th>\n",
       "      <th>Sex</th>\n",
       "      <th>Age</th>\n",
       "      <th>SibSp</th>\n",
       "      <th>Parch</th>\n",
       "      <th>Ticket</th>\n",
       "      <th>Fare</th>\n",
       "      <th>Cabin</th>\n",
       "      <th>Embarked</th>\n",
       "    </tr>\n",
       "  </thead>\n",
       "  <tbody>\n",
       "    <tr>\n",
       "      <th>886</th>\n",
       "      <td>887</td>\n",
       "      <td>0</td>\n",
       "      <td>2</td>\n",
       "      <td>Montvila, Rev. Juozas</td>\n",
       "      <td>male</td>\n",
       "      <td>27</td>\n",
       "      <td>0</td>\n",
       "      <td>0</td>\n",
       "      <td>211536</td>\n",
       "      <td>13.00</td>\n",
       "      <td>unknown</td>\n",
       "      <td>S</td>\n",
       "    </tr>\n",
       "    <tr>\n",
       "      <th>887</th>\n",
       "      <td>888</td>\n",
       "      <td>1</td>\n",
       "      <td>1</td>\n",
       "      <td>Graham, Miss. Margaret Edith</td>\n",
       "      <td>female</td>\n",
       "      <td>19</td>\n",
       "      <td>0</td>\n",
       "      <td>0</td>\n",
       "      <td>112053</td>\n",
       "      <td>30.00</td>\n",
       "      <td>B42</td>\n",
       "      <td>S</td>\n",
       "    </tr>\n",
       "    <tr>\n",
       "      <th>888</th>\n",
       "      <td>889</td>\n",
       "      <td>0</td>\n",
       "      <td>3</td>\n",
       "      <td>Johnston, Miss. Catherine Helen \"Carrie\"</td>\n",
       "      <td>female</td>\n",
       "      <td>30</td>\n",
       "      <td>1</td>\n",
       "      <td>2</td>\n",
       "      <td>W./C. 6607</td>\n",
       "      <td>23.45</td>\n",
       "      <td>unknown</td>\n",
       "      <td>S</td>\n",
       "    </tr>\n",
       "    <tr>\n",
       "      <th>889</th>\n",
       "      <td>890</td>\n",
       "      <td>1</td>\n",
       "      <td>1</td>\n",
       "      <td>Behr, Mr. Karl Howell</td>\n",
       "      <td>male</td>\n",
       "      <td>26</td>\n",
       "      <td>0</td>\n",
       "      <td>0</td>\n",
       "      <td>111369</td>\n",
       "      <td>30.00</td>\n",
       "      <td>C148</td>\n",
       "      <td>C</td>\n",
       "    </tr>\n",
       "    <tr>\n",
       "      <th>890</th>\n",
       "      <td>891</td>\n",
       "      <td>0</td>\n",
       "      <td>3</td>\n",
       "      <td>Dooley, Mr. Patrick</td>\n",
       "      <td>male</td>\n",
       "      <td>32</td>\n",
       "      <td>0</td>\n",
       "      <td>0</td>\n",
       "      <td>370376</td>\n",
       "      <td>7.75</td>\n",
       "      <td>unknown</td>\n",
       "      <td>Q</td>\n",
       "    </tr>\n",
       "  </tbody>\n",
       "</table>\n",
       "</div>"
      ],
      "text/plain": [
       "     PassengerId  Survived  Pclass                                      Name  \\\n",
       "886          887         0       2                     Montvila, Rev. Juozas   \n",
       "887          888         1       1              Graham, Miss. Margaret Edith   \n",
       "888          889         0       3  Johnston, Miss. Catherine Helen \"Carrie\"   \n",
       "889          890         1       1                     Behr, Mr. Karl Howell   \n",
       "890          891         0       3                       Dooley, Mr. Patrick   \n",
       "\n",
       "        Sex  Age  SibSp  Parch      Ticket   Fare    Cabin Embarked  \n",
       "886    male   27      0      0      211536  13.00  unknown        S  \n",
       "887  female   19      0      0      112053  30.00      B42        S  \n",
       "888  female   30      1      2  W./C. 6607  23.45  unknown        S  \n",
       "889    male   26      0      0      111369  30.00     C148        C  \n",
       "890    male   32      0      0      370376   7.75  unknown        Q  "
      ]
     },
     "execution_count": 48,
     "metadata": {},
     "output_type": "execute_result"
    }
   ],
   "source": [
    "df.tail(qty_lin)"
   ]
  },
  {
   "cell_type": "markdown",
   "metadata": {},
   "source": [
    "### Questão 1\n",
    "\n",
    "#### Há algo que sugira que a classe social possa ter realação com a sobrevivência dos passageiros?"
   ]
  },
  {
   "cell_type": "markdown",
   "metadata": {},
   "source": [
    "* Primeiro verificou-se a quantidade total de passageiros."
   ]
  },
  {
   "cell_type": "code",
   "execution_count": 49,
   "metadata": {},
   "outputs": [
    {
     "name": "stdout",
     "output_type": "stream",
     "text": [
      "3    491\n",
      "1    216\n",
      "2    184\n",
      "Name: Pclass, dtype: int64\n"
     ]
    }
   ],
   "source": [
    "# Verifica quantidade total de passageiros por classe social.\n",
    "passenger_class_qty = df['Pclass'].value_counts()\n",
    "passenger_1 = passenger_class_qty[1]\n",
    "passenger_2 = passenger_class_qty[2]\n",
    "passenger_3 = passenger_class_qty[3]\n",
    "print(passenger_class_qty)"
   ]
  },
  {
   "cell_type": "markdown",
   "metadata": {},
   "source": [
    "* Depois a quantidade de passageiros sobreviventes em cada classe."
   ]
  },
  {
   "cell_type": "code",
   "execution_count": 50,
   "metadata": {
    "scrolled": true
   },
   "outputs": [
    {
     "name": "stdout",
     "output_type": "stream",
     "text": [
      "Pclass\n",
      "1    136\n",
      "2     87\n",
      "3    119\n",
      "Name: Survived, dtype: int64\n"
     ]
    }
   ],
   "source": [
    "# Verifica quantidade de passageiros sobreviventes por classe social.\n",
    "survived_class_qty = df.groupby('Pclass')['Survived'].sum()\n",
    "survived_1 = survived_class_qty[1]\n",
    "survived_2 = survived_class_qty[2]\n",
    "survived_3 = survived_class_qty[3]\n",
    "print(survived_class_qty)"
   ]
  },
  {
   "cell_type": "markdown",
   "metadata": {},
   "source": [
    "* Com as quantidades encontradas calculou-se a proporção de passageiros sobreviventes em cada classe."
   ]
  },
  {
   "cell_type": "code",
   "execution_count": 51,
   "metadata": {},
   "outputs": [
    {
     "name": "stdout",
     "output_type": "stream",
     "text": [
      "Sobreviventes por classe\n",
      "\n",
      "1ª Classe: 63%\n",
      "2ª Classe: 48%\n",
      "3ª Classe: 25%\n"
     ]
    },
    {
     "data": {
      "image/png": "[encoded data removed]",
      "text/plain": [
       "<matplotlib.figure.Figure at 0x12b34146e48>"
      ]
     },
     "metadata": {},
     "output_type": "display_data"
    }
   ],
   "source": [
    "# Calcula proporção de sobreviventes por classe.\n",
    "survived_1class_proportion = 100 + proportion(passenger_1, survived_1)\n",
    "survived_2class_proportion = 100 + proportion(passenger_2, survived_2)\n",
    "survived_3class_proportion = 100 + proportion(passenger_3, survived_3)\n",
    "\n",
    "# Exibe os valores\n",
    "print('Sobreviventes por classe\\n')\n",
    "print('1ª Classe: {}%'.format(survived_1class_proportion))\n",
    "print('2ª Classe: {}%'.format(survived_2class_proportion))\n",
    "print('3ª Classe: {}%'.format(survived_3class_proportion))\n",
    "\n",
    "# Traça o gráfico\n",
    "class_surv_prop = {u'1ª':survived_1class_proportion, u'2ª': survived_2class_proportion, u'3ª':survived_3class_proportion}\n",
    "fig = plt.subplots(figsize=(10,6))\n",
    "plt.bar(range(len(class_surv_prop)), class_surv_prop.values(), align='center')\n",
    "plt.title('Sobreviventes por classe')\n",
    "plt.xlabel('Classes')\n",
    "plt.ylabel('Percentual')\n",
    "plt.rcParams['font.size'] = 9\n",
    "plt.xticks(range(len(class_surv_prop)), class_surv_prop.keys());"
   ]
  },
  {
   "cell_type": "markdown",
   "metadata": {},
   "source": [
    "##### Resposta:\n",
    "\n",
    "* Os dados apontam possivelmente houve um maior número de sobreviventes na primeira classe.\n",
    "\n",
    "-------------------"
   ]
  },
  {
   "cell_type": "markdown",
   "metadata": {},
   "source": [
    "### Questão 2\n",
    "\n",
    "#### O local de embarque denota uma possível relação com a classe social dos passageiros?"
   ]
  },
  {
   "cell_type": "markdown",
   "metadata": {},
   "source": [
    "* Primeiro foi preciso agrupar os dados por porto de embarque e classe a qual os passageiros pertenciam."
   ]
  },
  {
   "cell_type": "code",
   "execution_count": 52,
   "metadata": {},
   "outputs": [
    {
     "name": "stdout",
     "output_type": "stream",
     "text": [
      "Total de passageiros por porto e classe\n",
      " Embarked  Pclass\n",
      "C         1          85\n",
      "          3          66\n",
      "          2          17\n",
      "Q         3          72\n",
      "          2           3\n",
      "          1           2\n",
      "S         3         353\n",
      "          2         164\n",
      "          1         127\n",
      "unknown   1           2\n",
      "Name: Pclass, dtype: int64 \n",
      "\n",
      "Total de passageiros por classe\n",
      " 3    491\n",
      "1    216\n",
      "2    184\n",
      "Name: Pclass, dtype: int64\n"
     ]
    }
   ],
   "source": [
    "# Verifica quantidade de passageiros embarcados em cada porto, por classe social.\n",
    "# C = Cherbourg / Q = Queenstown / S = Southampton\n",
    "embarked_class_qty = df.groupby('Embarked')['Pclass'].value_counts()\n",
    "print('Total de passageiros por porto e classe\\n',embarked_class_qty, '\\n')\n",
    "\n",
    "total_passenger_class = df['Pclass'].value_counts()\n",
    "print('Total de passageiros por classe\\n', total_passenger_class)"
   ]
  },
  {
   "cell_type": "markdown",
   "metadata": {},
   "source": [
    "* Depois foi gerado um array com dados sobre quantidade por classe para ser usado na representação de cada gráfico."
   ]
  },
  {
   "cell_type": "code",
   "execution_count": 53,
   "metadata": {},
   "outputs": [],
   "source": [
    "# Cria os arrays com os valores de local de embarque com a série criada durante a análise.\n",
    "cherbourg_qty = embarked_class_qty['C']\n",
    "queenstown_qty = embarked_class_qty['Q']\n",
    "southampton_qty = embarked_class_qty['S']\n",
    "\n",
    "# Ordena por arrays dos locais por classe.\n",
    "cherbourg_qty = cherbourg_qty.sort_index()\n",
    "queenstown_qty = queenstown_qty.sort_index()\n",
    "southampton_qty = southampton_qty.sort_index()\n",
    "total_passenger_class = total_passenger_class.sort_index()\n",
    "\n",
    "# Prepara as listas de array para alimentar o gráfico\n",
    "class1_data = [100 - (- proportion(total_passenger_class[1], cherbourg_qty[1])),\n",
    "               100 - (- proportion(total_passenger_class[1], queenstown_qty[1])),\n",
    "               100 - (- proportion(total_passenger_class[1], southampton_qty[1]))]\n",
    "\n",
    "class2_data = [100 - (- proportion(total_passenger_class[2], cherbourg_qty[2])),\n",
    "               100 - (- proportion(total_passenger_class[2], queenstown_qty[2])),\n",
    "               100 - (- proportion(total_passenger_class[2], southampton_qty[2]))]\n",
    "\n",
    "class3_data = [100 - (- proportion(total_passenger_class[3], cherbourg_qty[3])),\n",
    "               100 - (- proportion(total_passenger_class[3], queenstown_qty[3])),\n",
    "               100 - (- proportion(total_passenger_class[3], southampton_qty[3]))]"
   ]
  },
  {
   "cell_type": "markdown",
   "metadata": {},
   "source": [
    "* Com as listas com dados de cada classe preparadas o gráfico é configurado."
   ]
  },
  {
   "cell_type": "code",
   "execution_count": 66,
   "metadata": {},
   "outputs": [
    {
     "data": {
      "image/png": "[encoded data removed]",
      "text/plain": [
       "<matplotlib.figure.Figure at 0x12b349debe0>"
      ]
     },
     "metadata": {},
     "output_type": "display_data"
    }
   ],
   "source": [
    "# Cria o gráfico\n",
    "groups = 3\n",
    "fig, ax = plt.subplots(figsize=(10, 6))\n",
    "index = np.arange(groups)\n",
    "bar_width = 0.2\n",
    "transp = 0.7\n",
    "plt.bar(index, class1_data, bar_width, alpha=transp, color='blue', label='1ª Classe')\n",
    "plt.bar(index + 0.2, class2_data, bar_width, alpha=transp, color='green', label='2ª Classe')\n",
    "plt.bar(index + 0.4, class3_data, bar_width, alpha=transp, color='orange', label='3ª Classe')\n",
    "plt.xlabel('Portos de Embarque')\n",
    "plt.ylabel('Notas')\n",
    "plt.title('Número de Passageiros Embarcados por Porto e Classe')\n",
    "plt.xticks(index + 0.5, ('Cherbourg', 'Queenstown', 'Southampton'))\n",
    "plt.yticks(np.arange(0, 110, 10))\n",
    "plt.rcParams['font.size'] = 12\n",
    "plt.legend()\n",
    "plt.tight_layout()\n",
    "plt.show()"
   ]
  },
  {
   "cell_type": "markdown",
   "metadata": {},
   "source": [
    "#### Resposta\n",
    "\n",
    "* Os dados denotam que possivelmente a o maior parte dos passageiros tenha embarcado em Southampton, mas cerca de 40% da primeira classe tenha embarcado também em Cherbourg. Em Queenstown a maior parte do passageiros a embarcar foram os da terceira classe.\n",
    "\n",
    "-----------------"
   ]
  },
  {
   "cell_type": "markdown",
   "metadata": {},
   "source": [
    "### Questão 3\n",
    "\n",
    "#### Há alguma indicação de que o desembarque de mulheres e crianças tenha sido prioridade?"
   ]
  },
  {
   "cell_type": "markdown",
   "metadata": {},
   "source": [
    "* Primeiro foi feita uma seleção de dados entre gêneros feminino e masculino, ordenada por idade, com as respectivas quantidades verificadas para cada idade."
   ]
  },
  {
   "cell_type": "code",
   "execution_count": 67,
   "metadata": {},
   "outputs": [
    {
     "name": "stdout",
     "output_type": "stream",
     "text": [
      "Gênero feminino quantidade por idade\n",
      "    age  num\n",
      "0    0    2\n",
      "1    1    2\n",
      "2    2    2\n",
      "3    3    1\n",
      "4    4    5 \n",
      "\n",
      "Gênero masculino quantidade por idade\n",
      "    age  num\n",
      "0    0    5\n",
      "1    1    3\n",
      "2    2    1\n",
      "3    3    4\n",
      "4    4    2\n"
     ]
    }
   ],
   "source": [
    "## Cria dataframes com quantidade de passageiros sobreviventes por gênero e idade.\n",
    "df_temp = df.query('Survived == \"1\" & Sex == \"female\"')['Age'].value_counts()\n",
    "df_survived_female = pd.DataFrame(df_temp.reset_index())\n",
    "df_survived_female.columns = ['age', 'num']\n",
    "df_survived_female = df_survived_female.sort_values(['age'])\n",
    "df_survived_female = df_survived_female.reset_index(drop=True)\n",
    "print('Gênero feminino quantidade por idade\\n',df_survived_female.head(),'\\n')\n",
    "\n",
    "df_temp = df.query('Survived == \"1\" & Sex == \"male\"')['Age'].value_counts()\n",
    "df_survived_male = pd.DataFrame(df_temp.reset_index())\n",
    "df_survived_male.columns = ['age', 'num']\n",
    "df_survived_male = df_survived_male.sort_values(['age'])\n",
    "df_survived_male = df_survived_male.reset_index(drop=True)\n",
    "print('Gênero masculino quantidade por idade\\n', df_survived_male.head())"
   ]
  },
  {
   "cell_type": "markdown",
   "metadata": {},
   "source": [
    "* Com a seleção gerou-se um gráfico de barras de sobreviventes por idade de ambos os gêneros."
   ]
  },
  {
   "cell_type": "code",
   "execution_count": 68,
   "metadata": {
    "scrolled": false
   },
   "outputs": [
    {
     "data": {
      "image/png": "[encoded data removed]",
      "text/plain": [
       "<matplotlib.figure.Figure at 0x12b34a2e4e0>"
      ]
     },
     "metadata": {},
     "output_type": "display_data"
    }
   ],
   "source": [
    "# Configura parâmetros do gráfico\n",
    "width = 1\n",
    "female = mpatches.Patch(color='blue', label='Female')\n",
    "male = mpatches.Patch(color='orange', label='Male')\n",
    "fig, barf = plt.subplots(figsize=(15,5))\n",
    "\n",
    "# Cria gráfico com os dataframes de sobreviventes por gênero e idade criados durante a análise.\n",
    "barf.bar(df_survived_female['age'], df_survived_female['num'], width)\n",
    "barf.legend(handles=[female, male], loc=1)\n",
    "barf.set_title('Sobreviventes por Gênero e Idade')\n",
    "barf.set_xlabel('Idades')\n",
    "barf.set_ylabel('Sobreviventes');\n",
    "barf.bar(df_survived_male['age'], df_survived_male['num'], width)\n",
    "plt.rcParams['font.size'] = 12\n",
    "plt.show();"
   ]
  },
  {
   "cell_type": "markdown",
   "metadata": {},
   "source": [
    "* Limitação: o grande número de mulheres com 30 anos aqui se deve a atribuição da média de idade aos valores de idade ausentes e por haverem muitos valores de idade do gênero feminino ausentes."
   ]
  },
  {
   "cell_type": "markdown",
   "metadata": {},
   "source": [
    "#### Resposta\n",
    "\n",
    "* Os dados examinados possivelmente sinalizam que a diferença entre o número de sobreviventes é menor para ambos os gêneros nas idades aproximadamente abaixo de 13 anos. Após essa idade a diferença aumenta a favor do gênero feminino. Sugerindo uma possível priorização para crianças e mulheres.\n",
    "\n",
    "-----------------"
   ]
  },
  {
   "cell_type": "markdown",
   "metadata": {},
   "source": [
    "### Questão 4\n",
    "\n",
    "#### Qual a média de idade dos sobreviventes das 3 classes sociais indicadas nos dados?"
   ]
  },
  {
   "cell_type": "markdown",
   "metadata": {},
   "source": [
    "* Foi criada uma lista com uma seleção dos sobreviventes por classe e média de idade."
   ]
  },
  {
   "cell_type": "code",
   "execution_count": 57,
   "metadata": {},
   "outputs": [
    {
     "name": "stdout",
     "output_type": "stream",
     "text": [
      "1ª, 2ª e 3ª classes:  [35, 26, 23]\n"
     ]
    }
   ],
   "source": [
    "# Verifica a média de idade dos passageiros sobreviventes nas três classes sociais.\n",
    "df_survived_class_age =[]\n",
    "df_survived_class_age.append(round(df.query('Survived == \"1\" & Pclass == \"1\"')['Age'].mean()))\n",
    "df_survived_class_age.append(round(df.query('Survived == \"1\" & Pclass == \"2\"')['Age'].mean()))\n",
    "df_survived_class_age.append(round(df.query('Survived == \"1\" & Pclass == \"3\"')['Age'].mean()))\n",
    "print('1ª, 2ª e 3ª classes: ', df_survived_class_age)"
   ]
  },
  {
   "cell_type": "markdown",
   "metadata": {},
   "source": [
    "* A lista alimenta o gráfico de idades por classe."
   ]
  },
  {
   "cell_type": "code",
   "execution_count": 65,
   "metadata": {},
   "outputs": [
    {
     "data": {
      "image/png": "[encoded data removed]",
      "text/plain": [
       "<matplotlib.figure.Figure at 0x12b3475ed68>"
      ]
     },
     "metadata": {},
     "output_type": "display_data"
    }
   ],
   "source": [
    "# Configura parâmetros do gráfico\n",
    "labels = '1ª Classe', '2ª Classe', '3ª Classe'\n",
    "explode = (0, 0.1, 0, 0)\n",
    "fig1, ax1 = plt.subplots(figsize=(15,6))\n",
    "\n",
    "# Cria gráfico com as lsitas de idade por classe criadas durante a análise.\n",
    "ax1.pie(df_survived_class_age, labels=labels, autopct='%.0f', shadow=True, startangle=45)\n",
    "ax1.axis('equal')\n",
    "ax1.set_title('Médias de Idades dos Sobreviventes por Classe')\n",
    "plt.rcParams['font.size'] = 12\n",
    "plt.show()"
   ]
  },
  {
   "cell_type": "markdown",
   "metadata": {},
   "source": [
    "#### Resposta\n",
    "\n",
    "* As seguintes médias de idade foram sugeridas pelos dados analisados: 1ª Classe 42 anos, 2ª Classe 31 anos e 3ª Classe 27 anos.\n",
    "\n",
    "-------------"
   ]
  },
  {
   "cell_type": "markdown",
   "metadata": {},
   "source": [
    "### Questão 5\n",
    "\n",
    "#### Qual o sobrevivente mais idoso?"
   ]
  },
  {
   "cell_type": "markdown",
   "metadata": {},
   "source": [
    "* Após realizar uma seleção de passageiros sobreviventes, com uma função separou-se o registro do passageiro de maior idade."
   ]
  },
  {
   "cell_type": "code",
   "execution_count": 59,
   "metadata": {},
   "outputs": [
    {
     "name": "stdout",
     "output_type": "stream",
     "text": [
      "Sobrevivente:  Barkworth, Mr. Algernon Henry Wilson \n",
      "Idade       :  80 anos \n",
      "Classe      :  1ª Classe\n"
     ]
    }
   ],
   "source": [
    "# Cria dataframe com sobreviventes\n",
    "df_passengers = df.query('Survived == \"1\"')\n",
    "# Separa passageiro sobrevivente com maior idade.\n",
    "passenger_old = df_passengers.loc[df_passengers['Age'].idxmax()]\n",
    "print(\"Sobrevivente: \", passenger_old['Name'], '\\nIdade       : ',\n",
    "      passenger_old['Age'], 'anos', '\\nClasse      : ', str(passenger_old['Pclass']) + 'ª Classe')"
   ]
  },
  {
   "cell_type": "markdown",
   "metadata": {},
   "source": [
    "#### Resposta\n",
    "\n",
    "* Os dados utilizados apontam como possível sobrevivente mais idoso o Sr. Algernon Henry Wilson Barkworth, 80 anos, que viajava na primeira classe.\n",
    "\n",
    "--------------------"
   ]
  },
  {
   "cell_type": "markdown",
   "metadata": {},
   "source": [
    "### Conclusão"
   ]
  },
  {
   "cell_type": "markdown",
   "metadata": {},
   "source": [
    "\n",
    "A análise dos dados sugere de que o tipo de bilhete adquirido possa ter significativa influencia na questão de sobrevivência.\n",
    "Somente 1/4 dos passageiros da terceira classe sobreviveram, enquanto quase metade dos passageiros da segunda classe sobreviveu e mais da metade dos da primeira classe.\n",
    "\n",
    "Considerando a influencia da classe na sobrevivência ao naufrágio, surge o questionamento quanto a origem de partida dos passageiros de cada classe. Onde Southampton aparece como sendo a origem da maioria dos passageiros, embora cerca de 40% da primeira classe tenha embarcado também em Cherbourg.\n",
    "\n",
    "Aparentemente foi respeitado a ordem de desembarque de primeiro mulheres e crianças. Tendo a média de idade dos passageiros sobreviventes da primeira classe ficado um pouco acima das demais classes. E o passageiro sobrevivente mais idoso, com 80 anos, viajava na primeira classe.\n"
   ]
  },
  {
   "cell_type": "markdown",
   "metadata": {},
   "source": [
    "\n",
    "#### Limitações\n",
    "As conclusões são baseadas nos dados parciais retirados do site Kaggle, portanto podem não estar totalmente de acordo com os fatos reais."
   ]
  },
  {
   "cell_type": "markdown",
   "metadata": {},
   "source": [
    "#### Fontes de consulta\n",
    "* Wikipédia - https://pt.wikipedia.org/wiki/RMS_Titanic\n",
    "* Kaggle - https://www.kaggle.com/c/titanic/data\n",
    "* Udacity - aulas da Nanodegree Fundamentos de Data Science I\n",
    "* Python - https://www.python.org/\n",
    "* Pandas - https://pandas.pydata.org/\n",
    "* Matplotlib - https://matplotlib.org/\n",
    "* Stack Overflow - https://stackoverflow.com/"
   ]
  },
  {
   "cell_type": "code",
   "execution_count": null,
   "metadata": {},
   "outputs": [],
   "source": []
  }
 ],
 "metadata": {
  "kernelspec": {
   "display_name": "Python 3",
   "language": "python",
   "name": "python3"
  },
  "language_info": {
   "codemirror_mode": {
    "name": "ipython",
    "version": 3
   },
   "file_extension": ".py",
   "mimetype": "text/x-python",
   "name": "python",
   "nbconvert_exporter": "python",
   "pygments_lexer": "ipython3",
   "version": "3.6.4"
  }
 },
 "nbformat": 4,
 "nbformat_minor": 2
}
